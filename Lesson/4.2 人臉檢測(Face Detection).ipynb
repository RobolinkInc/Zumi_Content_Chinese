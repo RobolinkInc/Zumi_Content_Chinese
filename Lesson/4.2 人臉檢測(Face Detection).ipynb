{
 "cells": [
  {
   "cell_type": "markdown",
   "metadata": {
    "deletable": false,
    "id": "3dwN_uAEyoEQ"
   },
   "source": [
    "<img src=\"../Data/images/ZumiHeader.png\" width=700>"
   ]
  },
  {
   "cell_type": "markdown",
   "metadata": {
    "deletable": false,
    "id": "0naKLXbIyoEY"
   },
   "source": [
    "# Face Detection(人臉檢測)\n",
    "\n",
    "<font size =3> 人臉檢測是怎麼運行的？試由人類如果檢測人臉開始思考。您覺得電腦都是一樣的嗎？</font>\n",
    "\n",
    "\n",
    "## Haar cascade(哈爾級聯)\n",
    "\n",
    "<font size =3> 在看臉之前，先由特徵較少的例子開始。您應該對辨認一個「停止」標誌沒有任何問題，但您是怎樣知道它是一個「停止」的標誌呢？電腦在做相同的任務時會遇到什麼困難？\n",
    "</font>\n",
    "<br><br>\n",
    "\n",
    "<img src=\"../Data/images/blank_stop_sign.png\" width=200>\n",
    "\n",
    "<font size =3> 辨認「停止」標誌的最簡單的方法是辨認它的**特徵**,例如顏色跟形狀。您能利用一連串的「停止」標誌圖像去訓練電腦/AI去辨認一個「停止」標誌，即陽性圖像(positive images)，如果圖像沒有「停止」標誌則為陰性圖像(negative images)。這樣的辦認方法可以叫作**Haar cascade(哈爾級聯)**，給矛一個樣版再以其他圖像圖象輔助學習。這個過程跟人類的學習方式是相似的。同樣地我們可以分辦出那個標誌是不是「停止」。</font>\n",
    "\n",
    "### Haar features（哈爾特徵）\n",
    "<font size =3> Haar cascade（哈爾聯級）是以數學函數(mathematical function)命名的，但它是由Paul Viola跟Michael Jones在2001發明的(來源)。他們的算法是基於某些特徵，叫作**Haar features(哈爾特徵)**,可以代表物件。<br>\n",
    "回想分辦顏色的課節，還記得圖像是由一組像素組成，而每一個像素通常都是由一組3個數字來表示。現在嘗試把「停止」圖像轉成灰階。\n",
    "\n",
    "來源: http://www.willberger.org/cascade-haar-explained/ <br> <br>\n",
    "\n",
    "\n",
    "<img src=\"../Data/images/convert_stop_sign.png\" width=500>\n",
    "\n",
    "在灰階的圖像中,您只需要一個數字來表示像素，而不再需要三個。最低的數低為0,代表黑，最高是255，代表白色。其距間的數字則是灰色陰影。\n",
    "\n",
    "<img src=\"../Data/images/grayscale_values.png\" width=500>\n",
    "\n",
    "以這樣的思維，您就能開始理解Haar features了。在「停下」標誌中，會有某些較亮的像素代表「停下」標誌並再被一些某暗的像素包圍著。把這個原理套入人臉，人臉有多種特徵，包括眼，鼻，口。如果您給矛電腦數張灰階的人臉圖像，它將會開始平均的像素值中找出圖形(眼,鼻等等...)。在鼻樑下方，會較容易發現一列較光的像素被兩側較暗的像素包圍。電腦還可能會發現眼眼跟眼眉附近的區域會比我們的臉頰暗淡\n",
    "\n",
    "<img src=\"../Data/images/haar_cascade.png\" width=500>\n",
    "\n",
    "雖然電腦並不知道它看到的是什麼，但它能夠看到像素以某種特定的組合方式排列(例如:您的鼻子不會在眼睛上面)，從而把該圖像歸納成人瞼。這是使用Haar feature的程式面對未見過的圖像的辦認方法。</font>\n",
    "\n",
    "## Code(代碼)\n",
    "<font size =3> 訓練Haar Cascade是非常耗時的。要整作出一個好的分辦器，您需要上千的陰性跟陽性圖像和一些計算能力。偵測人瞼的cascade file(級聯檔案)已經準備給您，這是一個包含數千行代碼，並已包含所有用於訓練偵查及辦識的資料。</font>\n",
    "\n",
    "### Import libraries（代入庫）\n",
    "<font size =3>首先您要代入所有必要的工具庫。您需要相機庫(camera library)去拍照，vision library(視覺庫)來偵測人臉，screen library(螢幕庫)來顯示圖像。 </font>"
   ]
  },
  {
   "cell_type": "code",
   "execution_count": null,
   "metadata": {
    "deletable": false,
    "id": "JE29w1TzyoEa",
    "outputId": "9da21ca4-0c2e-4597-a476-fa255aea09c0"
   },
   "outputs": [],
   "source": [
    "from zumi.util.camera import Camera \n",
    "from zumi.zumi import Zumi\n",
    "from zumi.util.screen import Screen\n",
    "from zumi.util.vision import Vision\n",
    "import time\n",
    "\n",
    "\n",
    "zumi = Zumi()\n",
    "camera = Camera()\n",
    "screen = Screen()\n",
    "vision = Vision()"
   ]
  },
  {
   "cell_type": "markdown",
   "metadata": {
    "id": "owiOZrS2yoEb"
   },
   "source": [
    "### Convert to Grayscale and find_face() [轉成灰階並_find_face() ]\n",
    "\n",
    "<font size=3>要以Haar cascade來計算像素的差異，需要以灰階的圖像作為輸入。在vision library中,有一個函數您能用作接收圖像的參數並把它轉成一樣的灰階圖像。例如:您拍下一張相片並儲存成<font face=\"Courier\">image</font>，您能把它由彩色轉成灰階，就如課節4.1中學過一樣。<br>\n",
    "\n",
    "<font face=\"Courier\"> image = vision.convert_to_gray(image) </font> <br><br>\n",
    "   \n",
    "**備注:** 電腦的vision library會在背後自動幫您把圖像轉成灰階，但以函數轉變也是一個良好的習慣以使您更能記住Haar Cascades是如何運作的。<br><br>\n",
    "    \n",
    "當圖像轉成灰階後您便能使用in the function <font face=\"Courier\">vision.find_face()</font>。這個函數將找尋Haar features為人臉並繪畫一個框來圍著算法所找到的全部人臉。這是您調使用該函數的方式:\n",
    "\n",
    "<font face=\"Courier\"> vision.find_face(image)</font><br>\n",
    "    \n",
    "最後別忘記利用don't forget to show the image on the screen with <font face=\"Courier\"> camera.show_image()</font>來把圖像顯示在螢幕上。如果您對caerma functions還不熟悉的話，可以參考課節4.1來複習。</font> \n",
    "<br><br>\n",
    "\n",
    "### Pseudocode(偽代碼)\n",
    "<font size=3> 我們知道今課需要記住很多東西，所以我們編寫了偽代碼來供大家參考學習。 <br> \n",
    "    \n",
    "<font face=\"Courier\"> \n",
    "Start camera <br>\n",
    "take an image<br>\n",
    "close the camera<br>\n",
    "convert the image to gray<br>\n",
    "use find_face() to find a face<br>\n",
    "show the image"
   ]
  },
  {
   "cell_type": "code",
   "execution_count": null,
   "metadata": {
    "id": "UDTD_-2xyoEd"
   },
   "outputs": [],
   "source": [
    "# Write your code here to detect a face"
   ]
  },
  {
   "cell_type": "markdown",
   "metadata": {
    "id": "JdneuDu_yoEf"
   },
   "source": [
    "## Modifying parameters(改變參數)\n",
    "<font size=3> 嘗試以近距及遠距兩種距離為您的臉拍照。您的臉需要多近/遠才能讓相機把它歸納成人臉？Haar cascade其實有一些默認的數值來判斷您的算法在檢測人臉的效果。依照的您用例會有所不同。</font>\n",
    "    \n",
    "### minSize\n",
    "\n",
    "<font size=3>設定最小尺寸以使偵測的人臉不會小於(x,y)區域。</font>\n",
    "\n",
    "### maxSize\n",
    "\n",
    "<font size=3>設定最大尺寸以使偵測的人臉不會大於(x,y)區域。</font>\n",
    "\n",
    "### minNeighbors\n",
    "\n",
    "<font size=3> 每一個特徵都是一個長方形的像素。Neighbors(鄰居)是任可特徵有相似的地方。如果您增加這個數字，它將會偵測到較少的人臉，因為需滿足人臉的要求變得需要更多相似的特徵了。 </font>\n",
    "\n",
    "### scaleFactor\n",
    "<font size=3> 在顏色及標誌的課節中，我們提及過縮小圖像的尺寸會使訓練變得更容易。這個一個涉及很多計算的過程,所以預設每個比例都是以5%縮小。\n",
    "    \n",
    "這是以上函數的默認參數：<br> <br>  \n",
    "    \n",
    "<font face=\"Courier\">vision.find_face(image, scale_factor = 1.05, min_neighbors=8, min_size=(40,40))</font><br><br>\n",
    "\n",
    "嘗試慢慢改變參數的數值以看看這對檢測算法的影響。找一些跟人臉相似的圖像。如果您改變參數，電腦還能辦認出真人瞼跟其他圖像嗎？\n",
    "    \n",
    "Bonus: 編寫一個for loop來將檢測的過程顯示為影片！"
   ]
  },
  {
   "cell_type": "code",
   "execution_count": null,
   "metadata": {
    "id": "BZO8HpJZyoEk"
   },
   "outputs": [],
   "source": [
    "# Write Code here that modifies these parameters."
   ]
  },
  {
   "cell_type": "markdown",
   "metadata": {
    "id": "8IZYT9Y6yoEl"
   },
   "source": [
    "## Making Decisions(做出決定)\n",
    "<font size = 3> 在這個活動，Zumi將把視線保持在您身上。您需編寫出一個使Zumi跟隨您的臉移動的程式。 "
   ]
  }
 ],
 "metadata": {
  "colab": {
   "name": "4.2 人臉檢測Face Detection.ipynb",
   "provenance": []
  },
  "kernelspec": {
   "display_name": "Python 3",
   "language": "python",
   "name": "python3"
  },
  "language_info": {
   "codemirror_mode": {
    "name": "ipython",
    "version": 3
   },
   "file_extension": ".py",
   "mimetype": "text/x-python",
   "name": "python",
   "nbconvert_exporter": "python",
   "pygments_lexer": "ipython3",
   "version": "3.5.3"
  }
 },
 "nbformat": 4,
 "nbformat_minor": 1
}
