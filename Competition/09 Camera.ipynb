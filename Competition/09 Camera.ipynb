{
 "cells": [
  {
   "cell_type": "markdown",
   "metadata": {
    "deletable": false,
    "id": "CvjlxofvdfPJ"
   },
   "source": [
    "<img src=\"../Data/images/ZumiHeader.png\" width=700>"
   ]
  },
  {
   "cell_type": "markdown",
   "metadata": {
    "deletable": false,
    "id": "ePYDsiU1dfPT"
   },
   "source": [
    "# How does Zumi see?\n",
    "\n",
    "<font size =3>自動駕駛汽車不僅需要障礙物檢測傳感器，還有其他功能可以使用。日常生活中，司機的眼睛和耳朵可以幫助我們提前得知那些感應器可能無法探測到的潛在危險。 我們還可以區分行人，單車和其他汽車之間的區別。 自駕駛車還需要什麼才做到人類駕駛的境界呢？</font>\n",
    "\n",
    "\n",
    "## 自拍\n",
    "\n",
    "<font size =3> 首先：使用Zumi的相機拍照並在屏幕上顯示！ </font>\n",
    "\n",
    "<img src=\"../Data/images/zumi_camera.jpg\" width=500>\n",
    "\n",
    "### 導入 libraries\n",
    "<font size =3>\n",
    "注意新的程式庫：相機庫及視覺庫！這些程式庫包含獲取，修改和顯示圖像的代碼。  </font>\n"
   ]
  },
  {
   "cell_type": "code",
   "execution_count": null,
   "metadata": {
    "deletable": false,
    "id": "kKWgmMqmdfPU",
    "outputId": "e03a9428-35f7-49a4-fd0f-402a0831ae06"
   },
   "outputs": [],
   "source": [
    "from zumi.zumi import Zumi\n",
    "from zumi.util.screen import Screen\n",
    "import cv2\n",
    "import time\n",
    "from zumi.util.vision import Vision # New library!\n",
    "from zumi.util.camera import Camera # New library!\n",
    "\n",
    "zumi = Zumi()\n",
    "camera = Camera()\n",
    "screen = Screen()\n",
    "vision = Vision()"
   ]
  },
  {
   "cell_type": "markdown",
   "metadata": {
    "deletable": false,
    "id": "T-fXis7CdfPV"
   },
   "source": [
    "<font size =3> 跟日常的相機一樣，這組代碼有一個倒數功能。運行以下代碼，展露笑容然後到Zumi的屏幕查看自己的相片。</font>\n"
   ]
  },
  {
   "cell_type": "markdown",
   "metadata": {
    "deletable": false,
    "id": "Zey1dZfvdfPV"
   },
   "source": [
    "### Cheese! 📸 "
   ]
  },
  {
   "cell_type": "code",
   "execution_count": null,
   "metadata": {
    "deletable": false,
    "id": "u2l7-_RldfPV",
    "outputId": "1e188b65-00da-45b7-c29f-7caa25b5e1ff"
   },
   "outputs": [],
   "source": [
    "camera.start_camera() # Turn on the camera\n",
    "\n",
    "print(\"3...\")\n",
    "screen.draw_text_center(\"3...\")\n",
    "time.sleep(1)\n",
    "print(\"2...\")\n",
    "screen.draw_text_center(\"2...\")\n",
    "time.sleep(1)\n",
    "print(\"1...\")\n",
    "screen.draw_text_center(\"1...\")\n",
    "time.sleep(1)\n",
    "screen.draw_text_center(\"Cheese!\")\n",
    "\n",
    "image = camera.capture() # Take a picture\n",
    "camera.close() # Make sure to close the camera stream\n",
    "screen.show_image(image) # Display image on OLED"
   ]
  },
  {
   "cell_type": "markdown",
   "metadata": {
    "deletable": false,
    "id": "YB3OKty0dfPW"
   },
   "source": [
    "## Displaying Images in Jupyter(在Jyupter顯示相片)\n",
    "<font size =3>學習過在Zumi螢幕顯示相片後，這次我們換到中Jupyter Notebook中顯示，跟Zumi螢幕稍有不同，在Jupyter Notebook顯示的相片是帶有顏色的。</font>"
   ]
  },
  {
   "cell_type": "code",
   "execution_count": null,
   "metadata": {
    "deletable": false,
    "id": "7n-mT_rxdfPW"
   },
   "outputs": [],
   "source": [
    "camera.start_camera()\n",
    "\n",
    "print(\"3...\")\n",
    "screen.draw_text_center(\"3...\")\n",
    "time.sleep(1)\n",
    "print(\"2...\")\n",
    "screen.draw_text_center(\"2...\")\n",
    "time.sleep(1)\n",
    "print(\"1...\")\n",
    "screen.draw_text_center(\"1...\")\n",
    "time.sleep(1)\n",
    "screen.draw_text_center(\"Cheese!\")\n",
    "\n",
    "frame = camera.capture()\n",
    "camera.close()\n",
    "\n",
    "camera.show_image(frame)"
   ]
  },
  {
   "cell_type": "markdown",
   "metadata": {
    "id": "V3sEGIdadfPW"
   },
   "source": [
    "### Camera functions\n",
    "<font size=3> 我們一共要學習3個函數來了解Zumi整個拍照功能： <br><br>\n",
    "    \n",
    " <img src=\"../Data/images/camera_functions.png\">\n",
    "   \n",
    "在拍照前，您需要以with <font face=\"Courier\">start_camera()</font>來開啟相機。紅燈表示相機已開啟。接著使用<font face=\"Courier\">capture()</font>來拍照。把相片儲存成變數以在稍後的時間顯示它。例如: <br> <br>\n",
    "    \n",
    "<font face=\"Courier\">frame = camera.capture()</font>  \n",
    "<br>\n",
    "    \n",
    "最後別忘記關掉相機。如果您不先運行<font face=\"Courier\">close()</font>就去再次運行<font face=\"Courier\">start_camera()</font>的話，會出現錯誤。如果出現這個情況，儲存並關閉您的notebook以使相機關閉。</font>\n",
    "\n",
    "### Show the image\n",
    "<font size=3> Zumi「看」照片的方法跟人類不同，它們是以數字跟代碼來「看」的。要理解這句語，可以看看下的代碼，先拍照再儲存成一個變數最後再把變數打印出來。\n",
    "\n"
   ]
  },
  {
   "cell_type": "code",
   "execution_count": null,
   "metadata": {
    "id": "A8GN0zHedfPX",
    "outputId": "c37e1ee7-06c5-4a59-b9d5-f2bfaa0c26af"
   },
   "outputs": [],
   "source": [
    "# Write code here!\n",
    "camera.start_camera()\n",
    "image = camera.capture()\n",
    "camera.close()\n",
    "\n",
    "print(image)"
   ]
  },
  {
   "cell_type": "markdown",
   "metadata": {
    "id": "XOcXLqBgdfPX"
   },
   "source": [
    "<font size=3>可是人類需要將圖像視為彩色的像素才能看見並理解它。就如上面的編程一樣,運行<font face=\"Courier\">camera.show_image()</font> 將會在Jupyter顯示圖像。記緊這個函數需要使用變化才能知道要顯示那個圖像。在我們的例子中，我們把圖像儲存在 <font face=\"Courier\">frame</font>這個變數中。所以在顯示圖像時我們會這樣做：<br> <br>\n",
    "<font face=\"Courier\">camera.show_image(image)</font></font>  \n",
    "<br>\n",
    "    \n",
    "## Changing Colorspaces(改變色彩空間)\n",
    "<font size =3> 如果您曾使用過Photobooth或並他相片修輯工具，您可能會知道彩色濾光片(color filters)這個東西，能改變圖像的顏色。有些時候,以不同角度看圖像會令電腦處理及運行得更快。接下來我們利用 <font face=\"Courier\">image</font> 來取代 <font face=\"Courier\">img</font>以減少字串。</font>\n",
    "\n",
    "\n",
    "<img src=\"../Data/images/color_filters.png\" width=400>\n",
    "   \n",
    "### Grayscale(灰階)\n",
    "<font size=3> Grayscale(灰階)在日常中通常叫作「黑與白」。但其實這不太準確，因為圖像亦會由灰色像素組成。灰階的圖像能快一點完成處理因為它的顏色較少，例如您會使用灰階而不是彩色來製作QR code。"
   ]
  },
  {
   "cell_type": "code",
   "execution_count": null,
   "metadata": {
    "id": "bqQNqtZydfPX"
   },
   "outputs": [],
   "source": [
    "camera.start_camera()\n",
    "img = camera.capture()\n",
    "camera.close()\n",
    "gray = vision.convert_to_gray(img) # Convert it to gray\n",
    "camera.show_image(gray)"
   ]
  },
  {
   "cell_type": "markdown",
   "metadata": {
    "id": "fnq88Ja6dfPY"
   },
   "source": [
    "### HSV \n",
    "<font size=3> HSV 全意是 **hue(色相)**, **saturation(飽和度)**,**value(亮度)**。即使那圖像可能看起來比較奇怪，但它的色彩空間對Zumi偵測某種顏色時是非常有用的。比起使用正常配色的圖像更為有效，因為每一個像素訊息都會告知電腦有關顏色的強度以及是否有陰影。"
   ]
  },
  {
   "cell_type": "code",
   "execution_count": null,
   "metadata": {
    "id": "sGgvytxrdfPY"
   },
   "outputs": [],
   "source": [
    "camera.start_camera()\n",
    "img = camera.capture()\n",
    "camera.close()\n",
    "hsv = vision.convert_to_hsv(img) # Convert it to HSV, hue saturation and value\n",
    "camera.show_image(hsv)"
   ]
  },
  {
   "cell_type": "markdown",
   "metadata": {
    "id": "Ab4pC8-ZdfPZ"
   },
   "source": [
    "### Inverted(顛倒)\n",
    "<font size=3> 這個純屬娛樂性質。這個濾光片會反轉顏色的色調。例如：光的地方會變成暗而暗的就會變成光。.</font>"
   ]
  },
  {
   "cell_type": "code",
   "execution_count": null,
   "metadata": {
    "id": "SWL25ZYzdfPZ"
   },
   "outputs": [],
   "source": [
    "camera.start_camera()\n",
    "frame = camera.capture()\n",
    "camera.close()\n",
    "invert = cv2.bitwise_not(frame) # invert the colors\n",
    "camera.show_image(invert)"
   ]
  },
  {
   "cell_type": "markdown",
   "metadata": {
    "id": "9WBh5VM8dfPZ"
   },
   "source": [
    "## Resolution（解析度）\n",
    " <font size =3> 您可能會發現在Zumi上顯示的圖像都沒有顯示得非常仔細。因為Zumi的OLED screen 只有128個pixels闊及64個pixels高。第一張相片它的闊為770pixels,高為600pixels，而每個pixels是一個有顏色的小正方形。正常情況下不縮近是看不到的。嘗試靠近來看第二張相片：<br>\n",
    "<table><tr>\n",
    "<td> <img src=\"../Data/images/grayscale.png\" width=400> </td>\n",
    "<td> <img src=\"../Data/images/pixels.png\" width=400>   </td>\n",
    "</tr></table>   \n",
    "\n",
    "<br> <br>\n",
    "      \n",
    "\n",
    "在第二張相片中，您能看到獨立的像素。這意味它有每行有770，每列有600個。如果您有更多的像素，那圖片便會變成 **high resolution(高解像)**圖片。相對地Zumi OLD所顯示的圖像就是低解析度。</font>\n",
    " \n",
    "### Changing resolution(改變解析度)\n",
    "<font size=3> 雖然您不能改變OLD的解析度，但您能改變拍下來的照片的解析度。運行以下單元格去拍照(這個編程沒有倒數請注意)。您應為它的解析度是多少?猜一下以下的圖高跟闊為多少像素:"
   ]
  },
  {
   "cell_type": "code",
   "execution_count": null,
   "metadata": {
    "id": "rEK-8jzjdfPZ"
   },
   "outputs": [],
   "source": [
    "camera.start_camera()\n",
    "img = camera.capture()\n",
    "camera.show_image(img)\n",
    "camera.close()"
   ]
  },
  {
   "cell_type": "markdown",
   "metadata": {
    "id": "l8vS-QfSdfPa"
   },
   "source": [
    "<font size=3>嘗試改變這些數值，您的圖像拉伸,收縮及變大。 Python可能會自動改變像素以使它看起來附合比例。"
   ]
  },
  {
   "cell_type": "code",
   "execution_count": null,
   "metadata": {
    "id": "Xtsm-OszdfPa"
   },
   "outputs": [],
   "source": [
    "width = 150 # <-- CHANGE ME!\n",
    "height = 100 # <-- CHANGE ME!\n",
    "\n",
    "camera = Camera(width,height) # Let the camera know what changes you are making!\n",
    "camera.start_camera()\n",
    "img = camera.capture()\n",
    "camera.close()\n",
    "\n",
    "camera.show_image(img)"
   ]
  },
  {
   "cell_type": "markdown",
   "metadata": {
    "id": "73pC8OgxdfPa"
   },
   "source": [
    "<font size =3> 由於大小是有限制。我們接下來會拍一張完整解析圖的照片。Zumi將需要更多時間來處理並顯示該照片。原因是什麼呢？"
   ]
  },
  {
   "cell_type": "code",
   "execution_count": null,
   "metadata": {
    "id": "XTsmBXcrdfPa"
   },
   "outputs": [],
   "source": [
    "width = 1296 # Largest resolution!\n",
    "height = 976\n",
    "\n",
    "camera = Camera(width,height)\n",
    "camera.start_camera()\n",
    "img = camera.capture()\n",
    "camera.close()\n",
    "\n",
    "camera.show_image(img)"
   ]
  },
  {
   "cell_type": "markdown",
   "metadata": {
    "deletable": false,
    "id": "rrPr9LT1dfPa"
   },
   "source": [
    "## Video\n",
    "\n",
    "<font size =3> 儘管影片看起來是無縫的，但實際上它是一系列接連的圖片。 由於圖片顯示得太快所以通常都不會注意到。但如果您的圖像太大的話便會較易發現了。為了顯示影片,我們需要以for loop來拍照並顯示它。\n",
    "<font size =3>完成下面的編程以顯示影川。由於您正使用loop,所以我們需要2個新的代碼來避免程序崩潰,分別是：<font face=\"Courier\">try</font> 和 <font face=\"Courier\">finally</font>."
   ]
  },
  {
   "cell_type": "code",
   "execution_count": null,
   "metadata": {
    "deletable": false,
    "id": "w1rEEdMOdfPb",
    "outputId": "ebf6fa3c-410c-47ad-d3ae-122bd56d2972"
   },
   "outputs": [],
   "source": [
    "camera = Camera()\n",
    "camera.start_camera()\n",
    "\n",
    "try:\n",
    "    for x in range(30):\n",
    "        img = camera.capture()# TODO Take a picture\n",
    "        camera.show_image(img)# TODO show the picture\n",
    "        camera.clear_output() # Clear the output for the next image to show\n",
    "finally:\n",
    "    camera.close()"
   ]
  },
  {
   "cell_type": "markdown",
   "metadata": {
    "id": "PfJDDkXDdfPb"
   },
   "source": [
    "<font size=3> 如果發生錯誤或您在<font face=\"Courier\">try</font>下停止您的編程,它將會自動跳到<font face=\"Courier\">finally</font>。這種情況下,我們會加入 <font face=\"Courier\">close()</font>來把相機閉關。</font>\n",
    "\n",
    "\n",
    "    \n",
    "    "
   ]
  }
 ],
 "metadata": {
  "colab": {
   "collapsed_sections": [],
   "name": "4_1_How_Does_Zumi_Seec.ipynb",
   "provenance": []
  },
  "kernelspec": {
   "display_name": "Python 3",
   "language": "python",
   "name": "python3"
  },
  "language_info": {
   "codemirror_mode": {
    "name": "ipython",
    "version": 3
   },
   "file_extension": ".py",
   "mimetype": "text/x-python",
   "name": "python",
   "nbconvert_exporter": "python",
   "pygments_lexer": "ipython3",
   "version": "3.5.3"
  }
 },
 "nbformat": 4,
 "nbformat_minor": 1
}
