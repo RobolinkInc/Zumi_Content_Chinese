{
 "cells": [
  {
   "cell_type": "markdown",
   "metadata": {
    "id": "RouRyZx2ygFe"
   },
   "source": [
    "<img src=\"../Data/images/ZumiHeader.png\" width=700>"
   ]
  },
  {
   "cell_type": "markdown",
   "metadata": {
    "id": "arjsTyNNygFl"
   },
   "source": [
    "# Stop Sign Detection(偵測停車標誌)\n",
    "\n",
    "<font size =3>在這課節中，您將會學習什麼是Haar Cascade(哈爾演算法)，它是如何運作以及為何它對物件檢測十分重要的原因。特別說明的話，特別是，Zumi 將能夠檢測到停車標誌！\n",
    "\n",
    "您能輕鬆地將下面的標誌識別為停車標誌，但您知道自己是如何做到到這一點嗎？電腦(Zumi)在嘗試執行相同任務時會遇到什麼困難？</font>\n",
    "\n",
    "## Identifying objects(識別物件)\n",
    "\n",
    "<font size =3>您能輕鬆地將下面的標誌識別為停車標誌，但您知道自己是如何做到到這一點嗎？電腦(Zumi)在嘗試執行相同任務時會遇到什麼困難？</font>\n",
    "\n",
    "<img src=\"../Data/images/stop_sign.png\" width=200>\n",
    "\n",
    "<font size =3>最簡單去識別這是一個停止標誌的方法是看到路標上有一個\"STOP\"的大字標題。可是，在檢測到停車標誌之前，電腦必須學會閱讀和理解英語。 換句話說，你通過向電腦顯示多張停止標誌的圖片來訓練它這是一個\"STOP\"sign，稱為正圖像(positive image)，以及**do not(沒有)**的圖像，稱為負圖像(negative image)。這跟人類的學習方式非常類似。 我們接觸到的標誌是停車標誌，以及我們接觸到的標誌不是停車標誌。從而分辨出這是那個標誌？</font>\n",
    "\n",
    "<img src=\"../Data/images/stop_sign_blank.png\" width=200>\n",
    "\n",
    "<font size =3>很簡單，對吧？ 即使我們去掉了“STOP”這個詞，你也能找出使該標誌成為停車標誌的某些特徵：一個紅色的八角形。電腦也是以類似的方式訓練以尋找特徵。</font>\n",
    "\n",
    "## Feature Selection(特徵選擇)\n",
    "\n",
    "<font size =3>Haar Cascade algorithm(Haar 演算法)是基於一組稱為 Haar-like features的功能開發的。回想color classification的課節。還記得一張照片是由一組像素，彩色圖像中的每個像素通常由一組三個數字表示並組成的嗎？現在試想像我們將該照片轉換為灰階。\n",
    "</font>\n",
    "\n",
    "<img src=\"../Data/images/bw_stop_sign.png\" width=200>\n",
    "\n",
    "<font size =3>你需要多少個數字來表示每個像素？在灰階照片中，每個像素只需要一個數字來表示而不是原來的三個。最低的數低為0代表黑色而最高的數值是255代表白色。兩者之間的任何值都是灰色陰影。如果把圖像放至非常大，您將能夠看到一個一個獨立的像素。在下圖中，您將查看“STOP”中“S”的頂部。</font>\n",
    "\n",
    "<img src=\"../Data/images/stop_sign_zoomed.png\">\n",
    "\n",
    "<font size =3>一旦電腦看到正面和負面的圖像，它就可以了解哪些圖像有停止標誌，哪些沒有。即使電腦不明白它在看什麼，它也可以靠像素數值的排列而找出那些像素是較亮或較暗。\n",
    "## Haar Cascade File\n",
    "\n",
    "<font size=3> 當模型訓練完畢後，所有特徵都保存在Haar cascade的文件中。這些文件為.XML（extensible markup language|可擴展標記語言）檔案，電腦可使用它來檢測停車標誌。它有數千行代碼，其中包含用於對所有訓練有素的檢測對象進行分類的信息。文件夾內 .XML cascade 文件供用家在線上用作檢測人臉、汽車、路牌、微笑等功用。 <br>\n",
    "    \n",
    "訓練一個Haar Cascade是非常耗時的。要製作一個穩定的分類器，您需要數以千計的正面和負面圖像以及一些計算能力 為了節省您的時間和精力，您將使用預先訓練好的模型。別著急，你還需要學習如何使用Zumi的功能！</font>\n",
    "\n",
    "## Code\n",
    "\n",
    "### Import libraries(導入庫)\n",
    "\n",
    "<font size=3> 檢測停車標誌所需的代碼將在視覺庫(vision labrary)中。您還需要相機和zumi庫！</font>\n"
   ]
  },
  {
   "cell_type": "code",
   "execution_count": null,
   "metadata": {
    "id": "xV0ic-VaygFo",
    "outputId": "7d18f2c7-58ea-4923-a54e-7d9ff845429e"
   },
   "outputs": [],
   "source": [
    "from zumi.zumi import Zumi\n",
    "from zumi.util.screen import Screen\n",
    "from zumi.util.vision import Vision \n",
    "from zumi.util.camera import Camera \n",
    "import time\n",
    "\n",
    "zumi = Zumi()\n",
    "camera = Camera()\n",
    "screen = Screen()\n",
    "vision = Vision()"
   ]
  },
  {
   "cell_type": "markdown",
   "metadata": {
    "id": "Tl0LPzFeygFq"
   },
   "source": [
    "### detect_stop_sign()\n",
    "<font size=3> 此函數是視覺庫的一部分，如果檢測到停車標誌，則返回True，如果未有檢測到，則返回False。它需要一個圖像參數，因此您需要拍照並把它傳遞到函數。該功能會為您將圖像轉換為灰階。以下是一個例子！"
   ]
  },
  {
   "cell_type": "code",
   "execution_count": null,
   "metadata": {
    "id": "pCU6Gas5ygFr",
    "outputId": "5dfc6c82-2529-4813-ca63-811195f038f0"
   },
   "outputs": [],
   "source": [
    "camera.start_camera()  # Turn on the camera\n",
    "img = camera.capture()  # Take and save an image\n",
    "print(vision.detect_stop_sign(img))  #Print True or False\n",
    "camera.show_image(img)  # Show the image in the console\n",
    "camera.close()  # Don't forget to close the camera!"
   ]
  },
  {
   "cell_type": "markdown",
   "metadata": {
    "id": "EhapT2VAygFs"
   },
   "source": [
    "### Activity: Drive and Stop(行駛與停止)\n",
    "\n",
    "<font size=3> 檢測停車標誌並採取正確的行動對於自駕車來說是極其重要的。在本活動中，您將編寫一個代碼，讓Zumi向前行駛，直到檢測到停車標誌。你認為偽代碼會是什麼樣子的呢？<br><br>\n",
    "    \n",
    "<font face=\"Courier\">\n",
    "take a picture|拍照<br>\n",
    "check if a stop sign is detected|檢查是否檢測到停車標誌<br>\n",
    "if true, stop and break loop|如有，停止並中斷循環 <br>\n",
    "else, take a forward step|否則，向前行駛一小步<br>\n",
    "repeat 100 times|重複100次<br>  \n",
    "</font>\n",
    "    \n",
    "我們為你的編程編寫了開端。嘗試編寫自己的編程再向下滾動查看答案！ </font>\n",
    "\n",
    "1.   清單項目\n",
    "2.   清單項目\n",
    "\n"
   ]
  },
  {
   "cell_type": "code",
   "execution_count": null,
   "metadata": {
    "id": "cd3H8yXhygFs"
   },
   "outputs": [],
   "source": [
    "camera.start_camera()\n",
    "for i in range(100):\n",
    "    \n",
    "    # TODO: Take a picture\n",
    "    # TODO Call detect_stop_sign\n",
    "    # TODO If true, break the loop\n",
    "    # TODO Else, call forward_step\n",
    "    \n",
    "\n",
    "zumi.stop()\n",
    "camera.close()"
   ]
  },
  {
   "cell_type": "markdown",
   "metadata": {
    "id": "gA1N5BXMygFt"
   },
   "source": [
    "### Solution: Drive and Stop(解決方案：行駛和停止)\n",
    "<font size=3>如果您在解決方案上遇到問題，請查看以下兩種可能的解決方案： </font>\n"
   ]
  },
  {
   "cell_type": "code",
   "execution_count": null,
   "metadata": {
    "id": "cUsW5uWvygFu"
   },
   "outputs": [],
   "source": [
    "zumi.reset_gyro()\n",
    "camera.start_camera()\n",
    "for i in range(100):\n",
    "    \n",
    "    img = camera.capture()  # Take a picture\n",
    "    stop_sign_detect = vision.detect_stop_sign(img)  # Call detect_stop_sign\n",
    "    \n",
    "    if stop_sign_detect:  # If true, break the loop\n",
    "        break\n",
    "    else:                 # Else, call forward_step\n",
    "        zumi.forward_step(20,0)\n",
    "    \n",
    "\n",
    "zumi.stop()\n",
    "camera.close()"
   ]
  },
  {
   "cell_type": "code",
   "execution_count": null,
   "metadata": {
    "id": "EOUfLJJlygFu"
   },
   "outputs": [],
   "source": [
    "camera.start_camera()\n",
    "stop_sign_detect = False # initialize the condition to be False\n",
    "\n",
    "try:\n",
    "    while not stop_sign_detect:\n",
    "    \n",
    "        img = camera.capture()  # Take a picture\n",
    "        stop_sign_detect = vision.detect_stop_sign(img)  # Call detect_stop_sign\n",
    "        zumi.forward_step(20,0)\n",
    "finally:\n",
    "    print(\"Done\")\n",
    "    zumi.stop()\n",
    "    camera.close()"
   ]
  },
  {
   "cell_type": "markdown",
   "metadata": {
    "id": "u0TWuwaXygFv"
   },
   "source": [
    "### 例子: Wait and Drive(等待和行駛)\n",
    "<font size=3> 在此示例中，Zumi將在檢測到停車標誌時停下並等待，然後在沒檢測到停車標誌時向前行駛。 "
   ]
  },
  {
   "cell_type": "code",
   "execution_count": null,
   "metadata": {
    "id": "90_ZnHA4ygFv"
   },
   "outputs": [],
   "source": [
    "camera.start_camera()\n",
    "stop_sign_detect = True # initialize the condition to be True\n",
    "\n",
    "try:\n",
    "    while stop_sign_detect:\n",
    "        img = camera.capture()  # Take a picture\n",
    "        stop_sign_detect = vision.detect_stop_sign(img)      \n",
    "        \n",
    "finally:\n",
    "    print(\"done\")\n",
    "    zumi.forward(duration=3)\n",
    "    camera.close()"
   ]
  }
 ],
 "metadata": {
  "colab": {
   "collapsed_sections": [],
   "name": "stop.ipynb",
   "provenance": []
  },
  "kernelspec": {
   "display_name": "Python 3",
   "language": "python",
   "name": "python3"
  },
  "language_info": {
   "codemirror_mode": {
    "name": "ipython",
    "version": 3
   },
   "file_extension": ".py",
   "mimetype": "text/x-python",
   "name": "python",
   "nbconvert_exporter": "python",
   "pygments_lexer": "ipython3",
   "version": "3.5.3"
  }
 },
 "nbformat": 4,
 "nbformat_minor": 1
}
