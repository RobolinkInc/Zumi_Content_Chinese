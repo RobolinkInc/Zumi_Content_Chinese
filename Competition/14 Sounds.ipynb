{
 "cells": [
  {
   "cell_type": "markdown",
   "metadata": {
    "id": "1eHmfQwZ7EVq"
   },
   "source": [
    "<img src=\"../Data/images/ZumiHeader.png\" width=700>"
   ]
  },
  {
   "cell_type": "markdown",
   "metadata": {
    "id": "3Y7h-mff7EVt"
   },
   "source": [
    "# Sounds(聲音)"
   ]
  },
  {
   "cell_type": "markdown",
   "metadata": {
    "id": "Gc5jj9y37EVu"
   },
   "source": [
    "<font size =3>Zumi 可以播放聲音來表達她的情緒！聲音可以使用頻率和幅度來測量。 \n",
    "\n",
    "*   頻率(Frequency)是每秒脈衝(pulses)或振動的數量，以赫茲(hertz)為單位。頻率越高，聲音的音調就越高。\n",
    "*   振幅(Amplitude)是聲音的響度或強度，以分貝(decibels)為單位。\n",
    "\n",
    "影片: [聲音: 波長、頻率和幅度](https://www.youtube.com/watch?v=TsQL-sXZOLc)\n",
    "\n",
    "你覺得每種情緒聽起來像什麼？快樂是低頻還是高頻？生氣的幅度是低還是高？這要如何套用在Zumi身上？\n",
    "\n",
    "您能使用<font face=\"Courier\">play_note()</font>以播放各種音符。。第一個參數是你要播放的音符（從C2到B6的任意位置）第二個參數是非必要的，它能改變音符播放的時間（以毫秒為單位）。預設為 500 毫秒，但您可以通過添加第二個參數來更改它，就如下所示： <br><br>\n",
    "<font face=\"Courier\">play_note(Note.GS3, 400)</font>. <br><br>\n",
    "這會在 middle C 以下播放音符 G Sharp 400 毫秒。嘗試以下面的編程來聆聽音階，然後創作出屬於你的音樂！</font>"
   ]
  },
  {
   "cell_type": "code",
   "execution_count": null,
   "metadata": {
    "id": "EMf6sfZK7EVw"
   },
   "outputs": [],
   "source": [
    "from zumi.protocol import Note \n",
    "from zumi.zumi import Zumi\n",
    "\n",
    "\n",
    "zumi = Zumi()\n",
    "\n",
    "zumi.play_note(Note.C4)\n",
    "zumi.play_note(Note.D4)\n",
    "zumi.play_note(Note.E4)\n",
    "zumi.play_note(Note.F4)\n",
    "zumi.play_note(Note.G4)\n",
    "zumi.play_note(Note.A4)\n",
    "zumi.play_note(Note.B4)\n",
    "zumi.play_note(Note.C5)\n"
   ]
  },
  {
   "cell_type": "markdown",
   "metadata": {
    "id": "mBlsZTn-7EVy"
   },
   "source": [
    "<font size =3> 試嘗編程您的旋律。這些音符可用於任可以提醒您 Zumi 已完成任務或檢測到物體。"
   ]
  },
  {
   "cell_type": "code",
   "execution_count": null,
   "metadata": {
    "id": "M2wm5pGV7EVz"
   },
   "outputs": [],
   "source": [
    "# Make your melodies here 🎵 "
   ]
  },
  {
   "cell_type": "code",
   "execution_count": null,
   "metadata": {
    "id": "KiP7WZVK7EVz"
   },
   "outputs": [],
   "source": []
  }
 ],
 "metadata": {
  "colab": {
   "collapsed_sections": [],
   "name": "14 Sounds.ipynb",
   "provenance": []
  },
  "kernelspec": {
   "display_name": "Python 3",
   "language": "python",
   "name": "python3"
  },
  "language_info": {
   "codemirror_mode": {
    "name": "ipython",
    "version": 3
   },
   "file_extension": ".py",
   "mimetype": "text/x-python",
   "name": "python",
   "nbconvert_exporter": "python",
   "pygments_lexer": "ipython3",
   "version": "3.5.3"
  }
 },
 "nbformat": 4,
 "nbformat_minor": 1
}
