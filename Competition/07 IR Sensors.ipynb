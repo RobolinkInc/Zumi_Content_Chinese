{
 "cells": [
  {
   "cell_type": "markdown",
   "metadata": {
    "deletable": false,
    "id": "ey6dqnWT6s2x"
   },
   "source": [
    "<img src=\"../Data/images/ZumiHeader.png\" width=700>"
   ]
  },
  {
   "cell_type": "markdown",
   "metadata": {
    "deletable": false,
    "id": "acn1nP6u6s22"
   },
   "source": [
    "# IR Sensors(紅外線感應器)\n",
    "\n",
    "<font size =3> **Infrared** (IR for short)是一種肉眼不可見的電磁輻射。它也是一種能量的。 雖然名字聽起來有點可怕，但並不是所有的電磁輻射都是危險的。當中有一小部份是我們肉眼可看見的,那就是可見光(visible light)。我們能看到不同顏色是取決於各種波長。波長愈長，人類就愈難看見顏色。但是一些特別的感應器可以感測/看到這些波動。您能使用Zumi的IR sensors來探測周遭的物件。</font>\n",
    "\n",
    "<img src=\"../Data/images/electromagnetic_spectrum.jpg\" width=700>\n",
    "\n",
    "\n",
    "<center> https://imagine.gsfc.nasa.gov/science/toolbox/emspectrum1.html </center>\n",
    "\n",
    "## Zumi IR sensors\n",
    "\n",
    "<font size =3> Zumi設有6個IR sensors: 2個在正前方，2個在後方還有２個在底部。它們設有一個指數標記，以便更輕鬆地讀取數：\n",
    "   * IR 0 = front right\n",
    "   * IR 1 = bottom right\n",
    "   * IR 2 = back right\n",
    "   * IR 3 = bottom left\n",
    "   * IR 4 = back left\n",
    "   * IR 5 = front left\n",
    "\n",
    "</font>\n",
    "\n",
    "<img src=\"../Data/images/pcb_ir.jpg\" alt=\"pcb\" width=\"500\"/> "
   ]
  },
  {
   "cell_type": "markdown",
   "metadata": {
    "deletable": false,
    "id": "fgXMOVO66s23"
   },
   "source": [
    "## Display IR data on the screen(在螢幕上顯示IR數據)\n",
    "<font size =3>您將在Zumi的屏幕上顯示IR數據。要收集IR數據您需要建立一個Zumi Object及Screen object來顯示所收集到的數據。</font>\n",
    "\n",
    "### Import libraries"
   ]
  },
  {
   "cell_type": "code",
   "execution_count": null,
   "metadata": {
    "deletable": false,
    "id": "d79c1xj66s24"
   },
   "outputs": [],
   "source": [
    "from zumi.zumi import Zumi\n",
    "from zumi.util.screen import Screen\n",
    "import time\n",
    "\n",
    "zumi = Zumi()\n",
    "screen = Screen()"
   ]
  },
  {
   "cell_type": "markdown",
   "metadata": {
    "deletable": false,
    "id": "RKZuucS66s24"
   },
   "source": [
    "### What does the data mean?(那些數據有什麼意思？）\n",
    "\n",
    "<font size =3> IR感應器的運作原理是透過散發出紅外脈衝(infrared pulse)到物體並測量它秉反彈回來的紅外光。IR sensor所得到的數值為0 - 225。\n",
    "數值低代表附件有物件正在將紅外光反射會IR感應器。 \n",
    "\n",
    "運行以下的編程，在螢幕上觀察IR sneor所收集到的數值變化。這個編程使用了for loop來讀取50個數值。</font>\n",
    "\n",
    "#### Front IR sensors"
   ]
  },
  {
   "cell_type": "code",
   "execution_count": null,
   "metadata": {
    "deletable": false,
    "id": "Q7eKuYNy6s25"
   },
   "outputs": [],
   "source": [
    "for i in range(0,50):\n",
    "    ir_readings = zumi.get_all_IR_data()\n",
    "    front_right_ir = ir_readings[0]\n",
    "    front_left_ir = ir_readings[5]\n",
    "    \n",
    "    message = \"    IR readings        \"\n",
    "    message = message + str(front_right_ir) + \", \" + str(front_left_ir)\n",
    "    screen.draw_text(message)\n",
    "    time.sleep(0.1)\n",
    "screen.draw_text_center(\"Done!\")"
   ]
  },
  {
   "cell_type": "markdown",
   "metadata": {
    "deletable": false,
    "id": "QXDQKA2I6s25"
   },
   "source": [
    "#### Back IR sensors\n"
   ]
  },
  {
   "cell_type": "code",
   "execution_count": null,
   "metadata": {
    "deletable": false,
    "id": "R5h6qaRj6s26"
   },
   "outputs": [],
   "source": [
    "for i in range(0,50):\n",
    "    ir_readings = zumi.get_all_IR_data()\n",
    "    back_right_ir = ir_readings[2]\n",
    "    back_left_ir = ir_readings[4]\n",
    "    \n",
    "    message = \"    IR readings        \"\n",
    "    message = message + str(back_right_ir) + \", \" + str(back_left_ir)\n",
    "    screen.draw_text(message)\n",
    "    time.sleep(0.1)\n",
    "screen.draw_text_center(\"Done!\")"
   ]
  },
  {
   "cell_type": "markdown",
   "metadata": {
    "deletable": false,
    "id": "xPUli_c-6s26"
   },
   "source": [
    "#### Bottom IR sensors\n",
    "\n",
    "<font size =3> 底下的IR sensor對循線行駛及找出方向非常有用。利用 Bottom IR 的工作表測試並記錄光與暗的環境對數值的影響。</font> "
   ]
  },
  {
   "cell_type": "code",
   "execution_count": null,
   "metadata": {
    "deletable": false,
    "id": "iIPDOfYX6s26"
   },
   "outputs": [],
   "source": [
    "for i in range(0,50):\n",
    "    ir_readings = zumi.get_all_IR_data()\n",
    "    bottom_right_ir = ir_readings[1]\n",
    "    bottom_left_ir = ir_readings[3]\n",
    "    \n",
    "    message = \"    IR readings        \"\n",
    "    message = message + str(bottom_right_ir) + \", \" + str(bottom_left_ir)\n",
    "    screen.draw_text(message)\n",
    "    time.sleep(0.1)\n",
    "screen.draw_text_center(\"Done!\")"
   ]
  },
  {
   "cell_type": "markdown",
   "metadata": {
    "id": "sTco66b26s29"
   },
   "source": [
    "## Lists(清單)\n",
    "\n",
    "<font size=3> 您可能會注會有一些IR數據是尚未被顯示出來的。在所有例子中,我們均使用了 <font face=\"Courier\">get_all_IR_data()</font>，但是Zumi一共有6個IR感應器而且每個都有它自己的數值。它們怎麼可以都在同一個變數中呢？所有數據其實都儲存中All **list(清單)**中。在Python, lists 可以用作儲存及組織同類型的數據,並不需額外建立多個變數。</font> \n",
    "\n",
    "### Accessing values(存取值/訪問值)\n",
    "\n",
    "<font size=3> 當您使用<font face=\"Courier\">zumi.get_all_IR_data()</font>時，會請求所有感應器讀取到的數據儲存到清單上。舉個例:這個清單的名稱是<font face=\"Courier\">ir_readings</font>。跟垂直的購物清單不一樣,清單在Python上是以水平編寫的並會使用捨號[brackets]包住。而下一個單元格則會讀取數值並把打印出來。"
   ]
  },
  {
   "cell_type": "code",
   "execution_count": null,
   "metadata": {
    "id": "QR1utEvz6s2_"
   },
   "outputs": [],
   "source": [
    "ir_readings = zumi.get_all_IR_data()\n",
    "print(ir_readings)\n",
    "    "
   ]
  },
  {
   "cell_type": "markdown",
   "metadata": {
    "id": "5pYUqCFT6s2_"
   },
   "source": [
    "<font size=3> 打印清單的名稱將會打印出清單中全部的數值，如果您只需想查閱其中1,2個數值要怎樣做呢？您可以按**element(元素)**或它的**index(索引/指數)**來找出相對的數據。index就像清單上的地址一樣。在for loops上,Python的清單由0開始。以這個為例子,第一個及最後一個元素的數值是多少？\n",
    "    \n",
    "<img src=\"../Data/images/indexing.png\" width=700>\n",
    "    \n",
    "以下是index為0的第一個元素的例子。試練習打印出所有數值。請確保您將IR值保存在具有描述性名稱的變數裡。當您的編程變得更複雜時，您不能忘記那組數據是對應那組感應器的。"
   ]
  },
  {
   "cell_type": "code",
   "execution_count": null,
   "metadata": {
    "id": "gg8r1EZr6s3A"
   },
   "outputs": [],
   "source": [
    "ir_readings = zumi.get_all_IR_data()\n",
    "front_right_ir = ir_readings[0]\n",
    "print(front_right_ir)"
   ]
  },
  {
   "cell_type": "code",
   "execution_count": null,
   "metadata": {
    "id": "rfdBQ6Yp6s3B"
   },
   "outputs": [],
   "source": [
    "# Practice getting all of the values from the list."
   ]
  }
 ],
 "metadata": {
  "colab": {
   "collapsed_sections": [],
   "name": "IR Sensors.ipynb",
   "provenance": []
  },
  "kernelspec": {
   "display_name": "Python 3",
   "language": "python",
   "name": "python3"
  },
  "language_info": {
   "codemirror_mode": {
    "name": "ipython",
    "version": 3
   },
   "file_extension": ".py",
   "mimetype": "text/x-python",
   "name": "python",
   "nbconvert_exporter": "python",
   "pygments_lexer": "ipython3",
   "version": "3.5.3"
  }
 },
 "nbformat": 4,
 "nbformat_minor": 1
}
