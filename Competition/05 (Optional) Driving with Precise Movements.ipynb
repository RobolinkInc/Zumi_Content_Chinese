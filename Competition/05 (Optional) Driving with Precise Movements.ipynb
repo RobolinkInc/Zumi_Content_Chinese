{
 "cells": [
  {
   "cell_type": "markdown",
   "metadata": {
    "id": "i3z5ygVPUDWc"
   },
   "source": [
    "<img src=\"../Data/images/ZumiHeader.png\" width=700>"
   ]
  },
  {
   "cell_type": "markdown",
   "metadata": {
    "id": "hbGf4xJsUDWi"
   },
   "source": [
    "# Driving Decisions(駕駛決策)\n",
    "\n",
    "<font size =3> 當我們四處走動時，我們總是在感測周圍的環境。我們需要感測到沿途可能會出現的障礙物。這在Zumi使用<font face=\"Courier\">forward()</font>函數時會出配一個問題。在使用<font face=\"Courier\">forward()</font>時，Zumi是無法在駕駛時檢查它感應器或周圍的環境。試想像閉著眼睛四處走動，只有在停止移動並決定下一步行動時才能睜開眼睛。在本課節中，您將學習到一些新功能讓Zumi能同時執行多項任務。您將能夠在駕駛同時檢查感應器的訊息來做出決定。</font>\n",
    "\n",
    "## Include libraries(包括庫)"
   ]
  },
  {
   "cell_type": "code",
   "execution_count": null,
   "metadata": {
    "id": "B7rfYMESUDWl"
   },
   "outputs": [],
   "source": [
    "from zumi.zumi import Zumi\n",
    "import time\n",
    "import IPython.display\n",
    "zumi = Zumi()"
   ]
  },
  {
   "cell_type": "markdown",
   "metadata": {
    "id": "Ye05q41FUDWm"
   },
   "source": [
    "## forward()\n",
    "\n",
    "<font size=3> 試運行以下編程並把您的手放在Zumi的前方，會發生什麼事情？Zumi會停下來嗎？ </font>\n",
    "    "
   ]
  },
  {
   "cell_type": "code",
   "execution_count": null,
   "metadata": {
    "id": "rASqzkJfUDWn"
   },
   "outputs": [],
   "source": [
    "zumi.forward(duration=5)"
   ]
  },
  {
   "cell_type": "markdown",
   "metadata": {
    "id": "oBs3ONeIUDWn"
   },
   "source": [
    "<font size=3>請注意即使您把手放在Zumi的前方，它也是不會停下來的。因此我們需要為 Zumi添加一種可以精確距離移動的方法！"
   ]
  },
  {
   "cell_type": "markdown",
   "metadata": {
    "id": "0DU2asyuUDWo"
   },
   "source": [
    "## forward_step()\n",
    "<font size=3>當你走路時，哪些動作是重複的？右腳，左腳，右腳，左腳...其實Zumi也可以向前“邁出一步”。當這些小步循環起來時，Zumi就會向前推進。一小步的驅動函數是<font face=\"Courier\"> zumi.forward_step()</font>與<font face=\"Courier\">forward()不同</font>,參數不是可改變的。Zumi需要知道速度和**headong(航向)**，或方向。在下圖中，Zumi的航向是什麼？\n",
    "    \n",
    "<img src=\"../Data/images/heading_straight.png\" width=\"200\">\n",
    "    \n",
    "運行下面的代碼以使用<font face=\"Courier\">forward_step()並查看它的行駛模式</font>."
   ]
  },
  {
   "cell_type": "code",
   "execution_count": null,
   "metadata": {
    "id": "PjcF6H6HUDWp"
   },
   "outputs": [],
   "source": [
    "zumi.reset_gyro() # Resetting all angles to zero at the start\n",
    "\n",
    "for x in range(40): # Take 40 steps\n",
    "    zumi.forward_step(40, -30) # Drive at speed 40 at heading -30\n",
    "    \n",
    "zumi.stop() # Don't forget to stop!"
   ]
  },
  {
   "cell_type": "markdown",
   "metadata": {
    "id": "pOxlaxDqUDWq"
   },
   "source": [
    "<font size=3> 在編程結尾加入<font face=\"Courier\">stop()</font>是非常重要的！ 由於<font face=\"Courier\">forward_step()</font>能使Zumi平穩行駛，只要中間沒有停止的指令，Zumi便會繼續駕駛下去（直到電池耗盡）。For loop完成後，代碼將會到下一行繼續。 任何**不**屬於 for loop 的代碼都不應縮排。<br><br>\n",
    "在下面的空白處，練習使用 for loop以及這種新的直線行駛方法。嘗試改變第二個航向中的參數並試估計它需要多少時間才能駛至特定數目的迭代。"
   ]
  },
  {
   "cell_type": "code",
   "execution_count": null,
   "metadata": {
    "id": "PHn_cLcOUDWq"
   },
   "outputs": [],
   "source": [
    "# Code here!"
   ]
  },
  {
   "cell_type": "markdown",
   "metadata": {
    "id": "bDdviVuHUDWr"
   },
   "source": [
    "## Conditionals(條件句)\n",
    "<font size=3> 自駕車總是根據感應器的輸入來做出決定的。在本課中，您將學習如何編寫一個編讓Zumi在前後倒轉時停下！</font>\n",
    "\n",
    "\n",
    "### Orientation(方向)\n",
    "<font size=3> 要知道Zumi的方向是否顛倒，您需學習一個新函數：<font face=\"Courier\">get_orientation()</font>. Zumi 可能會面臨六種狀態：\n",
    "    \n",
    "<img src=\"../Data/images/orientations.png\" width=\"750\">\n",
    "\n",
    "使用下面的編程來驗證Zumi面臨的六種不同狀態。如果您看到 0、-1 或 7， Zumi 正處於狀態之間或它狀態是未知的。"
   ]
  },
  {
   "cell_type": "code",
   "execution_count": null,
   "metadata": {
    "id": "gTsJHFCrUDWs"
   },
   "outputs": [],
   "source": [
    "for i in range(80):\n",
    "    zumi.update_angles()\n",
    "    orientation = zumi.get_orientation() # Save this value in a variable so that you can use it later...\n",
    "    print(orientation)\n",
    "    time.sleep(0.1)\n",
    "    IPython.display.clear_output(wait=True) \n",
    "print(\"Done!\")"
   ]
  },
  {
   "cell_type": "markdown",
   "metadata": {
    "id": "xmM9-k9FUDWt"
   },
   "source": [
    "### Pseudocode(偽代碼)\n",
    "<font size=3> 您的目標是編寫Zumi**只能**在平坦的地面上行駕的代碼。換句話說，Zumi 只會在*if* get_orientation的state是5時行駛。在使用 Python 編程前，編寫偽代碼是非常有幫助的，它是用人類可以理解的通俗語言編寫的程序。看看下面的偽代碼以了解我們的意思：<br><br>\n",
    "    \n",
    "<font face=\"Courier\">\n",
    "check orientation｜檢查方向<br>\n",
    "if orientation is 5, drive｜如果方向是5，行駛<br>\n",
    "else if orientation is not 5, stop｜不則如果方向不是5，停下<br>\n",
    "repeat for 100 iterations｜重複100次迭代<br>\n",
    "</font>\n",
    "</font>\n",
    "\n",
    "### If statements(如果話句)\n",
    "<font size=3> 除了Zumi會根據方向以做出決定的兩條中線外，大部份偽代碼應該都是很熟悉的。如果語句或條件句都會用在編程中以做出決定。其實在日常生活中您每天都在使用條件句呢！\n",
    "\n",
    "<img src=\"../Data/images/conditional_flowchart.jpg\" width=700>\n",
    "\n",
    "鬧鐘是叫醒人類起床的一個正面**條件**。 否則，如果條件為假，程序將執行不同的操作。 在 Python 中，如果語句需遵循與此相似的格式：The alarm is the **condition** that needs to be true to wake up. Else, if the condition is false, the program will execute something different. In Python, if statements follow a format similar to this one: <br> <br>\n",
    "    \n",
    "<font face=\"Courier\">\n",
    "if alarm goes off: ｜如果鬧鐘響了：<br>\n",
    "<span style=\"margin-left: 40px;\">I will wake up｜我會醒來</span><br>\n",
    "else:｜否則<br>\n",
    "<span style=\"margin-left: 40px;\">I will stay asleep｜我會繼續睡覺</span><br>\n",
    "</font>\n",
    "\n",
    "在運行下面的編程前，請查看變量 x 和 y 的值。 你能預測輸出(output)會是什麼嗎？\n",
    "    \n",
    "    "
   ]
  },
  {
   "cell_type": "code",
   "execution_count": null,
   "metadata": {
    "id": "JDMMVwPWUDWu"
   },
   "outputs": [],
   "source": [
    "x = 10\n",
    "y = 30 \n",
    "\n",
    "if x > y:\n",
    "    print(\"x is greater than y\")\n",
    "elif x == y:\n",
    "    print(\"x is equal to y\")\n",
    "else:\n",
    "    print(\"x is less than y\")\n"
   ]
  },
  {
   "cell_type": "markdown",
   "metadata": {
    "id": "cc9wekv4UDWv"
   },
   "source": [
    "<font size=3> 注意雙等號 == 是用於檢查兩個值是否相等。 這是一個**compaator(比較器)**您將會使用它向比較您所選擇的值和方向值。 運用您對loop, <font face=\"Courier\">forward_step()</font>, 及 <font face=\"Courier\">get_orientation()</font>的知識, 完成下面的代碼，讓 Zumi 向前行駛 200 步，除非 Zumi 的方向顛倒。 不要忘記在 for loop的結尾放置一個<font face=\"Courier\">stop()</font>！"
   ]
  },
  {
   "cell_type": "code",
   "execution_count": null,
   "metadata": {
    "id": "B9fD214LUDWv"
   },
   "outputs": [],
   "source": [
    "# TODO: Reset angles to zero\n",
    "\n",
    "for x in range(\"CHANGE ME!\"):\n",
    "    zumi.update_angles()\n",
    "    orientation = zumi.get_orientation() \n",
    "    \n",
    "    # TODO Check if orientation is equal to 5 and forward step if true\n",
    "    # TODO Else, stop.\n",
    "    \n",
    "# TODO Add one more stop here"
   ]
  },
  {
   "cell_type": "markdown",
   "metadata": {
    "id": "0Roeg1K2UDWw"
   },
   "source": [
    "### Solution Code(解決方案)\n",
    "<br>\n",
    "<font size =3>\n",
    "    <details>\n",
    "        <summary><span style=\"color:blue\"><u>點擊這裡以獲得解決方案</u></span></summary>\n",
    "            <font face=\"Courier\"><br>\n",
    "                zumi.reset_gyro()<br>\n",
    "                try:<br>\n",
    "                <span style=\"margin-left: 40px;\">for x in range(200):</span><br>\n",
    "                <span style=\"margin-left: 80px;\">zumi.update_angles()</span><br>\n",
    "                <span style=\"margin-left: 80px;\">orientation = zumi.get_orientation()</span><br>\n",
    "                <span style=\"margin-left: 80px;\">if orientation == 5:</span><br>\n",
    "                <span style=\"margin-left: 120px;\">zumi.forward_step(40, 0)</span><br>\n",
    "                <span style=\"margin-left: 80px;\">else:</span><br>\n",
    "                <span style=\"margin-left: 120px;\">zumi.stop()</span><br>\n",
    "                finally:<br>\n",
    "                <span style=\"margin-left: 40px;\">zumi.stop()</span><br>\n",
    "            </font>\n",
    "    </details>\n",
    "</font>"
   ]
  },
  {
   "cell_type": "markdown",
   "metadata": {
    "id": "u5uOh7QfUDWy"
   },
   "source": [
    "# Python Tips: Try and Finally(嘗試和最終)"
   ]
  },
  {
   "cell_type": "markdown",
   "metadata": {
    "id": "L62wbJXdUDWz"
   },
   "source": [
    "<font size=3>在使用loops以及<font face=\"Courier\">forward_step()</font>時,您可能會遇到 Zumi 的車輪永遠在運行的問題。為了解決這個潛在的問題，我們可以使用<font face=\"Courier\">try</font>和<font face=\"Courier\">finally</font>函數,你可以在上面的解決方案編程中看到。如果出現任何問題或您在 <font face=\"Courier\">try</font> 的部份時停下代碼, 程序將自動跳轉到<font face=\"Courier\">finally</font>語句上。"
   ]
  }
 ],
 "metadata": {
  "colab": {
   "collapsed_sections": [],
   "name": "05 (Optional) Driving with Precise Movements.ipynb",
   "provenance": []
  },
  "kernelspec": {
   "display_name": "Python 3",
   "language": "python",
   "name": "python3"
  },
  "language_info": {
   "codemirror_mode": {
    "name": "ipython",
    "version": 3
   },
   "file_extension": ".py",
   "mimetype": "text/x-python",
   "name": "python",
   "nbconvert_exporter": "python",
   "pygments_lexer": "ipython3",
   "version": "3.5.3"
  }
 },
 "nbformat": 4,
 "nbformat_minor": 1
}
