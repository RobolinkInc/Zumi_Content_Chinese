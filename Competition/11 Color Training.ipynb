{
 "cells": [
  {
   "cell_type": "markdown",
   "metadata": {
    "deletable": false,
    "id": "ggauQeWG-Uz8"
   },
   "source": [
    "<img src=\"../Data/images/ZumiHeader.png\" width=700>"
   ]
  },
  {
   "cell_type": "markdown",
   "metadata": {
    "deletable": false,
    "id": "f400JBQd-U0P"
   },
   "source": [
    "# Color Classifier(顏色分類器)\n",
    "\n",
    "<font size=3> <span style=\"color:red\">**Note!**</span>這個課堂活動需要運用\"Explore\"頁面中的Color Training Wizard。</font>\n",
    "\n",
    "<font size =3> 您能看到顏色並區分它們,但您知道電腦也能夠做到嗎？在這課節，您將會學習一個特別的**演算法(algorithm)**來教Zumi學習不同顏色。這是一個machine learning(機器學習)的基礎例子，它大致上分為3個步驟：\n",
    "\n",
    "* 收集數據(Gathering data)\n",
    "* 建立一個模型(Generating a model)\n",
    "* 做出預測(Making predictions)\n",
    "\n",
    "您將使用Zumi的相機來拍攝您喜歡的顏色的照片，接著運行代碼以使用顏色的資訊來標記每一種顏色。最後您將會測試您的模型並編寫一個程式讓Zumi對每一種顏色都會作出不同反應。現在，試讓Zumi學習顏色。請準備好顏色卡來進行這個活動。</font>\n",
    "\n",
    "<img src=\"../Data/images/color_activity_cards.png\" width=700>\n",
    "\n",
    "# How do computers see and interpret colors?(電腦如何看到並理解顏色)\n",
    "<font size =3> 在開始訓練Zumi認識顏色前，您需知道Zumi是如何看到顏色。它跟人類看到顏色的方式是非常不同的！\n",
    "\n",
    "## What is an image?（什麼是圖像？)\n",
    "<font size =3> 圖像是由叫作**像素即pixles(圖片元素的縮寫)**的小點陣列組成。一個像素可以是一種顏色或多種顏色的組合，，而每種顏色都是由一系列的三個數字表示，這些數字可以準確地告訴您其中有多少是紅色、綠色和藍色。這叫作 **RGB** value,代表red(紅),green(綠)和blue(藍)。例如： 美麗的綠松石色調可能看起來可能會是(27, 209, 197) 因為它不會有太多紅色，但會有很多的藍跟綠色。由於RGB的數值0至255,所以每種顏色都會有256個數可供選擇。總並有256的3次方/16,777,216個顏色組合！</font>\n",
    "\n",
    "\n",
    "## What is a matrix?(什麼是矩陣？)\n",
    "<font size =3> 由於每個pixel(像素)都能以數字表示，所以圖像其實也是由一組數字的。這就是人類和電腦開始以稍微不同的方式看待圖像的地方。當人類看到不同顏色跟形狀時認定它們是不同的物件，但電腦只會看到這些網格(grid)，亦叫作**matrices(矩陣)**。每個數字代表每個像素(pixel)的RGB值。它們Each number represents the RGB value of each pixel. 它們看起來會像這樣：</font>\n",
    "\n",
    "<img src=\"../Data/images/matriceszumi.png\" width=500> \n",
    "\n",
    "## Using HSV instead of RGB(利用HSV代取代RGB)\n",
    "\n",
    "<font size =3> \n",
    "\n",
    "您的程式將會把每個RGB圖像轉換成**HSV** colorspace(色彩空間)。HSV即色相、飽和度、明度（英語：Hue, Saturation, Value）。\n",
    "\n",
    "\n",
    "* **Hue** 通常的範圍是0-360並代表顏色(但在Zumi下，它的範圍是0-180)\n",
    "* **Saturation** 是顏色的強度\n",
    "* **Value** 是顏色的深淺度\n",
    "\n",
    "在電腦的視覺應用中，最好是使用HSV顏色空間，因為它分開了顏色和強度的數值。這是非常重要的因為陰影、反射和其他因素可能會導致某些顏色看起來非常不同。而HSV色彩空間就考慮到這一點以獲得更準確的結果。</font>\n",
    "\n",
    "<img src=\"../Data/images/HSV_cylinder.png\" alt=\"hsv\" width=\"400\"/>\n"
   ]
  },
  {
   "cell_type": "markdown",
   "metadata": {
    "deletable": false,
    "id": "zhwGRq0C-U0U"
   },
   "source": [
    "## Practice: Teach Zumi 3 Colors(練習:教授Zumi三種顏色)\n",
    "<font size=3> 前往KNN Color Training Wizard並從Zumi盒子的色卡包中選擇三種您最喜歡的顏色。請注意Zumi如何將每種顏色繪製成3D坐標（色相、飽和度和值）。您認為 Zumi 如何正確地預測顏色？<br> 完成後，別忘記儲存您的模型，最好改一個易記的名稱。When you are done, don't forget to save your model with a project name that is easy to remember. 您將會在下一個階段再用到它,所以務必把所有的標籤名稱都寫下來。.</font>\n",
    "\n",
    "**Note** : 需要把Zumi連接到dashboard上才能使用KNN color Training Wizard！\n",
    "\n",
    "## Loading Model(導入模型)\n",
    "<font size=3> Machine learning(機器學習)的好處是當您儲存了一個模型，你是能重複使用它的。在上一個活動中，您選取了您最愛的三種顏色供Zumi學習。現在使用Python代碼來導入模型並測試Zumi對不同顏色的反應！</font>\n",
    "    \n",
    "### Import libraries(導入庫)\n",
    "<font size=3> 導入以下的功能庫以取得駕駛、相機和顏色分類等所需的功能。"
   ]
  },
  {
   "cell_type": "code",
   "execution_count": null,
   "metadata": {
    "id": "zE98IsLA-U0V"
   },
   "outputs": [],
   "source": [
    "from zumi.zumi import Zumi\n",
    "from zumi.util.camera import Camera\n",
    "from zumi.util.screen import Screen\n",
    "from zumi.util.color_classifier import ColorClassifier\n",
    "import time\n",
    "\n",
    "camera = Camera()\n",
    "screen = Screen()\n",
    "zumi = Zumi()"
   ]
  },
  {
   "cell_type": "markdown",
   "metadata": {
    "id": "qQifBz8l-U0W"
   },
   "source": [
    "### Loading a Model(導入模型)\n",
    "<font size=3> 要導入模型，您需要從ColorClassifier的功能庫中使用<font face=\"Courier\">load_model()</font>。這個函數需要一個參數，而它就是您的專題名稱。 還記得您的專題名稱嗎？在下面的引號內輸入您的用戶名稱(user_name)及專題名稱(demo_name)。檢查您的拼寫和標點符號是否正確。如果輸入有誤的話，將出錯\"錯誤\"訊息。 "
   ]
  },
  {
   "cell_type": "code",
   "execution_count": null,
   "metadata": {
    "id": "SHevotZC-U0Y"
   },
   "outputs": [],
   "source": [
    "user_name = ''\n",
    "demo_name = ''"
   ]
  },
  {
   "cell_type": "code",
   "execution_count": null,
   "metadata": {
    "id": "VXN2adnT-U0Z"
   },
   "outputs": [],
   "source": [
    "knn = ColorClassifier(user_name=user_name)\n",
    "train = knn.load_model(demo_name)\n",
    "knn.fit(\"hsv\")"
   ]
  },
  {
   "cell_type": "markdown",
   "metadata": {
    "id": "uwLWhEyF-U0a"
   },
   "source": [
    "<font size=3> 當您成功導入模型後，您便能測試它。運行以下的程式並選擇一張顏色卡讓Zumi「看」它。當您準備完後，按下「enter」來把結果顯示到螢幕上。如果您按\"q\"的話，程式將會中斷並關閉攝影機。 "
   ]
  },
  {
   "cell_type": "code",
   "execution_count": null,
   "metadata": {
    "id": "gg8l6XKU-U0b"
   },
   "outputs": [],
   "source": [
    "camera.start_camera()\n",
    "\n",
    "while True:\n",
    "        user_input = input(\"Press 'enter' to predict or 'q to quit: \")\n",
    "\n",
    "        if user_input == \"q\":\n",
    "            break\n",
    "            \n",
    "        image = camera.capture()\n",
    "        predict = knn.predict(image)\n",
    "        screen.draw_text_center(predict)\n",
    "\n",
    "camera.close()"
   ]
  },
  {
   "cell_type": "markdown",
   "metadata": {
    "id": "LQkeoZaN-U0b"
   },
   "source": [
    "## Traffic Light(紅綠燈)\n",
    "<font size=3> 您已訓練過Zumi去辨識不同的顏色，試根據Zumi看到的顏色來做出一些反應/決定！試想一下紅綠燈，三色的紅綠燈，它的每一種顏色代表著什麼？<br>\n",
    "    \n",
    "<img src=\"../Data/images/traffic_light.png\" width=300>\n",
    "</font>\n",
    "\n",
    "### Data collection(收集數據)\n",
    "<font size=3>返回 Color Training Wizard 以訓練\"red(紅)\", \"yellow(黃)\", and \"green(綠)\"三個標籤。然後把模型儲存成\"trafficlight\"。</font>\n",
    "\n",
    "### Making Decisions(作出決定)\n",
    "<font size=3> 在這個活動中，當Zumi看到紅色便命令它停止行駛，當Zumi見到綠色時便命令它行駛，當Zumi見到黃色時便命令它減速。利用<font face=\"Courier\">stop()</font>, <font face=\"Courier\">forward(speed=30)</font>及<font face=\"Courier\">forward(speed=70)</font> 以處理看到red(紅),yellow(黃),及green(綠)三種情況。例：\n",
    "    \n",
    "<font face=\"Courier\">\n",
    "    \n",
    "if predict == \"yellow\": <br>\n",
    "<span style=\"margin-left: 40px;\">zumi.forward(speed=30)</span> <br>\n",
    "</font>\n",
    "</font>\n",
    "    \n",
    "### Load the model(導入模型)\n",
    "<font size=3> 輸入並利用引號括住專題名稱以導入\"trafficlight\" 專題。"
   ]
  },
  {
   "cell_type": "code",
   "execution_count": null,
   "metadata": {
    "id": "M8h1VHED-U0c"
   },
   "outputs": [],
   "source": [
    "knn = ColorClassifier()\n",
    "train = knn.load_model(\"trafficlight\")\n",
    "knn.fit(\"hsv\")"
   ]
  },
  {
   "cell_type": "markdown",
   "metadata": {
    "id": "07pQPXBK-U0e"
   },
   "source": [
    "### Insert If statements(插入if-語句)\n",
    "<font size=3> 完成以下代碼以使紅綠燈能正常運作。向Zumi顯示顏色卡並按下\"enter\"以測試Zumi的反應！"
   ]
  },
  {
   "cell_type": "code",
   "execution_count": null,
   "metadata": {
    "id": "gNloqWmd-U0g"
   },
   "outputs": [],
   "source": [
    "camera.start_camera()\n",
    "\n",
    "while True:\n",
    "        user_input = input(\"Press 'enter' to predict or 'q to quit: \")\n",
    "\n",
    "        if user_input == \"q\":\n",
    "            break\n",
    "            \n",
    "        image = camera.capture()\n",
    "        predict = knn.predict(image)\n",
    "        screen.draw_text_center(predict)\n",
    "        \n",
    "        # Add your if statements here!\n",
    "        \n",
    "        Finish the code\n",
    "\n",
    "camera.close()"
   ]
  },
  {
   "cell_type": "markdown",
   "metadata": {
    "id": "xHFqEiiJ-U0h"
   },
   "source": [
    "## Design your own traffic light(設計您的紅綠燈)\n",
    "<font size=3> 誰說紅綠燈只有紅,綠跟黃色的呢？在現實世界中,這些都是通用的標誌/知識，所以我們需遵照它。但在Zumi的世界中，您能設計一盞與眾不同的紅綠燈。例如:紫色代表需要做一個＂u-turn＂，藍色代表向左轉等等...試創作一盞屬於您的紅燈綠！<br>\n",
    "    \n",
    "<img src=\"../Data/images/trafficlight_custom.png\" width=300> \n",
    "    \n",
    "前往Color Training Wizard 並為您的紅練燈訓練3種(什至更多)的顏色。您可以參照課節2.1或並他的Zumi課節去做出更複雜的駕駛操作。請記住您的專題名稱和標籤，因為完成後您需要再次加載並導入您的模型！</font>\n",
    "\n",
    "### Load model for custom traffic light"
   ]
  },
  {
   "cell_type": "code",
   "execution_count": null,
   "metadata": {
    "id": "CHZ5QsVH-U0j"
   },
   "outputs": [],
   "source": [
    "knn = ColorClassifier()\n",
    "train = knn.load_model(\"PROJECT NAME HERE\")\n",
    "knn.fit(\"hsv\")"
   ]
  },
  {
   "cell_type": "markdown",
   "metadata": {
    "id": "nXj3iefk-U0j"
   },
   "source": [
    "### Fill in the labels(完成以下標籤)\n",
    "<font size=3> 以日常的紅綠燈為例，都設有if-語句來告知Zumi在看到不同顏色時會有什麼不同的反應。完成填充後，試建造一個小城市，並舉行您訓練過的顏色卡以做出紅綠燈效果。"
   ]
  },
  {
   "cell_type": "code",
   "execution_count": null,
   "metadata": {
    "id": "CnN5WCs9-U0k"
   },
   "outputs": [],
   "source": [
    "camera.start_camera()\n",
    "\n",
    "while True:\n",
    "        user_input = input(\"Press 'enter' to predict or 'q to quit: \")\n",
    "\n",
    "        if user_input == \"q\":\n",
    "            break\n",
    "            \n",
    "        image = camera.capture()\n",
    "        predict = knn.predict(image)\n",
    "        screen.draw_text_center(predict)\n",
    "        \n",
    "        # Add your if statements here!\n",
    "\n",
    "camera.close()"
   ]
  }
 ],
 "metadata": {
  "colab": {
   "name": "Color Classification.ipynb",
   "provenance": []
  },
  "kernelspec": {
   "display_name": "Python 3",
   "language": "python",
   "name": "python3"
  },
  "language_info": {
   "codemirror_mode": {
    "name": "ipython",
    "version": 3
   },
   "file_extension": ".py",
   "mimetype": "text/x-python",
   "name": "python",
   "nbconvert_exporter": "python",
   "pygments_lexer": "ipython3",
   "version": "3.5.3"
  }
 },
 "nbformat": 4,
 "nbformat_minor": 1
}
