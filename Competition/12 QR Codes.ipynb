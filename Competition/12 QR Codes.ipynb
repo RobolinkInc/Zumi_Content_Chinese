{
 "cells": [
  {
   "cell_type": "markdown",
   "metadata": {
    "id": "WWz5chGhhuR-"
   },
   "source": [
    "<img src=\"../Data/images/ZumiHeader.png\" width=700>"
   ]
  },
  {
   "cell_type": "markdown",
   "metadata": {
    "id": "moDX4m8ohuSC"
   },
   "source": [
    "# QR Codes(二維碼)\n",
    "\n",
    "<font size=3>在日常生活中您可能已經見過**Quick Response (QR)**用於各種不同的事情上例如：連接WiFi，打開網址，玩遊戲，付款，下載東西等等...QR Code如此受歡迎的原因是它是一款能夠被電腦容易讀取到的濃縮標籤(condensed labels)。很多智能手機都有內建的QR code 掃瞄器，但其實還有很多其他的應用程式能解碼QR code。在這課節中，您將會學習QR code是如何運作並套用在Zumi的世界上。\n",
    "</font>\n",
    "\n",
    "\n",
    "## Scanning a QR Code(掃瞄一個QR code)\n",
    "\n",
    "<font size = 3>QR codes對人類來說可能看起來像一個隨機的像素陣列,但對電腦來說，它們包含編碼信息！看看以下的QR code，您覺得它在說什麼？\n",
    "\n",
    "<img src=\"../Data/images/QR_hello.png\" width=300>\n",
    "\n",
    "<font size = 3>要讀取這個QR code，您需要導入幾個功能庫。</font>"
   ]
  },
  {
   "cell_type": "code",
   "execution_count": null,
   "metadata": {
    "id": "NfnjLm1whuSD"
   },
   "outputs": [],
   "source": [
    "from zumi.zumi import Zumi\n",
    "from zumi.util.camera import Camera\n",
    "from zumi.util.vision import Vision\n",
    "\n",
    "camera = Camera()\n",
    "vision = Vision()"
   ]
  },
  {
   "cell_type": "markdown",
   "metadata": {
    "id": "KDABgu5ihuSE"
   },
   "source": [
    "<font size = 3>運行以下的程式並對Zumi的鏡頭展示QR code。它在說什麼？查看單單元格的輸出以獲取隱藏訊息。</font>\n",
    "<img src=\"../Data/images/QR_hello.png\" width=300>\n"
   ]
  },
  {
   "cell_type": "code",
   "execution_count": null,
   "metadata": {
    "id": "pteX7c4zhuSF"
   },
   "outputs": [],
   "source": [
    "clear_display()\n",
    "camera.start_camera()\n",
    "try: \n",
    "    for i in range(50):\n",
    "        frame = camera.capture()\n",
    "        vision.find_QR_code(frame)\n",
    "        camera.show_image(frame)\n",
    "        camera.clear_output()\n",
    "finally:\n",
    "    print(\"Done!\")\n",
    "    camera.close()  "
   ]
  },
  {
   "cell_type": "markdown",
   "metadata": {
    "id": "PmyxCteZhuSF"
   },
   "source": [
    "### find_QR_code()\n",
    "<font size=3>現在是時候介紹一個新函數！你在上面看到的函數<font face=\"Courier\">find_QR_code()</font>, 將處理作為參數給出的圖像並在代碼周圍繪製一個附有解碼訊息的長方形。"
   ]
  },
  {
   "cell_type": "markdown",
   "metadata": {
    "id": "4PLSw9rfhuSF"
   },
   "source": [
    "## How does a QR code work?(QR Code是怎樣運作的？)\n",
    "<font size=3> QR code被解碼去讀取\"Hello!\"，但這是怎樣運作的？ 要理解它，您需要學習關於二進制的基本知識—電腦的語言。 </font>\n",
    "\n",
    "### Binary(二進制)\n",
    "\n",
    "<font size=3>您以前可能已見過二進制，只是不知道它的名字而已。這看起來熟悉嗎？ <br> <br>\n",
    "\n",
    "<img src=\"../Data/images/binary_message.png\">\n",
    "\n",
    "**Binary(二進制)**是電腦使用的語言。由於電腦是電子設備，電腦需要以電子脈動(electronic pulses)來收發訊號。當脈衝高的時候，When the pulse is HIGH,在二進制下會是1，而當脈衝低時，在二進制下便會是0。電腦可以極快的速度發送這些脈衝，比人類能處理的速度快非常多！這些獨立的數值叫**bits(位元)**,它是**binary digit**的縮寫，這些digit只有2個數值，1或0。</font>\n",
    "\n",
    "<img src=\"../Data/images/byte_bit.png\">\n",
    "\n",
    "<font size=3>一個**byte(位元組)**是8個bits(位元)長。在上面的例子中，這是一個6bytes的訊息。只個byte代表一個字母或字符。讓我們解密第一個: 01001000. <br> </font>\n",
    "\n",
    "    \n",
    "### Decimal system(十數制)    \n",
    "<font size=3>首先，在**decimal(十進制)**下，下面數字的值是多少？ \n",
    "\n",
    "<img src=\"../Data/images/decimal.png\" width=500>\n",
    "\n",
    "在十進制，您有9個能使用的數字： 0, 1, 2, 3, 4, 5, 6, 7, 8,及 9。當您到達數字10時，您將會使用一個「1」及一個「0」來表示十位有一個「1」而個位是「0」。</font>\n",
    "    \n",
    "###  Binary system(二進制)\n",
    "\n",
    "<font size=3>那如果您只有「1」跟「0」可供使用的話要怎麼辦？讓我們由零開始計算。 0,1,...但我們要怎樣才能在不使用「1」跟「0」以外的數值下表示數字「2」呢？思考在十進制時我們是怎樣表示數字「10」的。在不使用特殊符號的情況下，我們使用了一個「1」跟一個「0」來表示數字「10」。這個「1」代表了這裡是1乘以10<sup>1</sup> (10的1次方)，而「0」則代表這裡是0乘以10<sup>0</sup>。(任何數字的0次方都是1)。把兩者加起來即是10+0=10。\n",
    "\n",
    "回到二進制：我們要如何在只能要用「1」跟「0」的情況下表示數字「2」？數字中的每個位置只在都是2的倍數而非10的倍數。\n",
    "\n",
    "<img src=\"../Data/images/binary.png\" width=500>\n",
    "\n",
    "如果您查看圖表，您可以看到這2個都可以以「10」來表示。這裡是1乘以2<sup>1</sup>, 跟0乘以2<sup>0</sup>.把兩耆加起來即是2+0 = 0。\n",
    "\n",
    "按照這個想法，在數字01001000，這裡有一個「1」在2<sup>6</sup>的位置及一個「1」 在2<sup>3</sup>的位置. 2 * 2 * 2 * 2 * 2 * 2 = 64，及2 * 2 * 2 = 8。如果您把64跟8加起來，您將會得到72。如果您覺得需以額外的二進制練習可到：[code.org](https://studio.code.org/projects/applab/iukLbcDnzqgoxuu810unLw)繼續練習。\n",
    "\n",
    " </font>\n",
    " \n",
    " <img src=\"../Data/images/binary_to_decimal.png\" width=500>\n",
    "\n",
    "### ASCII\n",
    "\n",
    "<font size=3>在代碼中，每個字符跟字母都以一個數字表示。數字「72」代表大階「H」。由於電腦無法理解字母,,**ASCII**(American Standard Code for Information Interchange，美國資訊交換標準代碼)表格便製出來以數字表示常見的字母和符號。透過查閱下面的ASCII表格below來嘗試解密剩下的二進制訊息。您可以使用草稿紙製作類似上面的圖表。<br> <br>\n",
    "\n",
    "<img src=\"../Data/images/binary_message.png\" width=1300>\n",
    "\n",
    "<img src=\"../Data/images/ascii_table.png\" width=800>\n",
    "\n",
    "如果您能解密出\"Hello!\"，恭喜您成功！跟QR code中的訊息是一樣的。這個二進制代碼如何轉換成QR Code的黑白方塊矩陣？二制進只有兩個數字，這亦可以用黑色方塊或白色方塊來表示，on(開)\"或\"off(關)\"。如果您像蛇一樣把訊息捲成一個正方形，您便會得出一個QR code！其中還有在格式上還有更多細節和規則，但總體思路也是一樣的。這個是\"wikipedia.org\"對QR的詳細分析：</font>\n",
    "\n",
    "<img src=\"../Data/images/qr_format.png\" width=600>\n",
    "    <center>https://commons.wikimedia.org/wiki/File:Micro_QR_Encoding.svg</center>\n",
    "\n",
    "<font size=3>現在您知道了QR codes的運作原理，您可以創造自己的QR code並把它套用在自己的編程上了！</font>\n",
    "\n",
    "\n",
    "## QR Messages(QR訊息)\n",
    "<font size=3> 好消息是您不需要編寫解碼訊息的編程。現在您知道它的運作原理，您可以使用一個全新的函數來替您執行這些操作。首先，您需要拍照以檢查Zumi能否能偵測到QR Code。這代表您需要一個if-statment來檢查有沒找到QR Code。例如：假設拍照後會儲存到<font face=\"Courier\">frame</font>,首先檢測一個QR code: <br>\n",
    "    \n",
    "<font face=\"Courier\">qr_code = vision.find_QR_code(frame)</font> <br><br>\n",
    "    \n",
    "您可以透過<font face=\"Courier\">get_QR_message(qr_code)</font>來顯示數據。從打印出來的QR Code中選取一個並放到Zumi的相機前，然後運行程式去查看訊息！"
   ]
  },
  {
   "cell_type": "code",
   "execution_count": null,
   "metadata": {
    "id": "Zhpm-wVmhuSH"
   },
   "outputs": [],
   "source": [
    "camera = Camera()\n",
    "camera.start_camera()\n",
    "frame = camera.capture()\n",
    "camera.close()\n",
    "qr_code = vision.find_QR_code(frame)\n",
    "message = vision.get_QR_message(qr_code)\n",
    "print(message)"
   ]
  },
  {
   "cell_type": "markdown",
   "metadata": {
    "id": "4Qx4SFwZhuSI"
   },
   "source": [
    "<font size=3>但如果Zumi沒看到QR Code是怎樣？在沒有QR code的情況下再次運行程式，結果會怎樣，有什麼輸出？</font>"
   ]
  },
  {
   "cell_type": "markdown",
   "metadata": {
    "id": "yt83AevAhuSI"
   },
   "source": [
    "### Checking for equality(檢查相等性)\n",
    "<font size=3> 讀取QR Code上的訊息是非常有用，但亦只限於您能透過那些訊息去做出決定！您還記得if statements嗎？現在您將混合它們來使用！在課堂3.2的避障中，您學過如果使用if statements來比較數字。在這個情況下，訊息都是(由字串符組成)**string** of characters。比較\"apple\"還是\"banana\"較大是不合理的，但您能看到這兩個訊息是否匹配或相等。在Python，是這樣檢查兩個訊息是否相同的:<br> <br>\n",
    "    \n",
    "<font face=\"Courier\">\n",
    "if message == \"apples\":<br>\n",
    "<span style=\"margin-left: 40px;\"> # Do something here! </span><br><br>\n",
    "</font>\n",
    "    \n",
    "在這個例子中，<font face=\"Courier\">message</font> 是一個變數。如果變數中的值是等同 \"apples\"的話，接下來的if statement便會執行。緊記這個編程需要使用雙等號！\n",
    "\n",
    "### Making decisions with QR(利用QR Code做出決定)\n",
    "<font size=3>在可打印的表格中選出2個QR code並利用早前的編程解密以找出訊息內容。 例如：您選擇了\"school\"及\"museum\"，在您所在地區設置兩個位置來代它們。在開始您的程式時，向Zumi展示QR code。如果Zumi偵測到QR code，它便會前往目的地。\n",
    "    \n",
    "<img src=\"../Data/images/qr_decision.png\" width=700>  \n",
    "\n",
    "如果以偽代碼表示大概會是這樣：<br><br>\n",
    "\n",
    "<font face=\"Courier\"> start the camera<br>\n",
    "take a picture and save it in a variable 'image'<br>\n",
    "close the camera<br>\n",
    "find a QR code (if any) in 'image' and save the result in a variable 'qr_code'<br>\n",
    "get the QR message and save it in a variable 'message'<br>\n",
    "if the message says \"school\", drive to the school<br>\n",
    "else if the message says \"museum\", drive to the museum<br><br>\n",
    "    </font>\n",
    "    \n",
    "接下來以編寫您的代碼。請記住，您需要將圖像、QR Code和訊息都儲存到變量，以便日後可以利用if-statement來使用它們。不要忘記if-statement的冒號和縮排！ "
   ]
  },
  {
   "cell_type": "code",
   "execution_count": null,
   "metadata": {
    "id": "aFEdAWjPhuSJ"
   },
   "outputs": [],
   "source": [
    "zumi = Zumi() # This is for running your driving commands!\n",
    "# Write the rest here!"
   ]
  }
 ],
 "metadata": {
  "colab": {
   "name": "QR Codes.ipynb",
   "provenance": []
  },
  "kernelspec": {
   "display_name": "Python 3",
   "language": "python",
   "name": "python3"
  },
  "language_info": {
   "codemirror_mode": {
    "name": "ipython",
    "version": 3
   },
   "file_extension": ".py",
   "mimetype": "text/x-python",
   "name": "python",
   "nbconvert_exporter": "python",
   "pygments_lexer": "ipython3",
   "version": "3.5.3"
  }
 },
 "nbformat": 4,
 "nbformat_minor": 1
}
