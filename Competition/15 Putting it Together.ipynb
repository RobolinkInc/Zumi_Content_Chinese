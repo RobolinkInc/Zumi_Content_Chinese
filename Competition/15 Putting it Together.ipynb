{
 "cells": [
  {
   "cell_type": "markdown",
   "metadata": {
    "id": "dvdrrAXZMqsm"
   },
   "source": [
    "<img src=\"../Data/images/ZumiHeader.png\" width=700>"
   ]
  },
  {
   "cell_type": "markdown",
   "metadata": {
    "id": "Po3fFPCKMqst"
   },
   "source": [
    "# Creating Custom Functions(創建自定義函數)\n",
    "\n",
    "<font size =3>函數是一種通過將常用代碼儲存到一個命名集來節省時間縮短編程以方便進行除錯的方法。在呼叫<font face=\"Courier\">zumi.forward()</font> or <font face=\"Courier\">zumi.reverse()</font>的時候其實你已經試過使用Zumi的函數了。但您知道您能創建屬於自己的函數嗎？\n",
    "</font>\n",
    "\n",
    "### Defining functions(定義函數)\n",
    "<font size=3> 編寫函數的第一步是關鍵字 <font face=\"Courier\">def</font>. 您要讓 Python知道您將要**定義(define)**一個函數。接下來，您需要為函數取名稱，並使用括號和冒號包住它。在冒號之後，把函數的主體縮寫並放至括號裡面，當中亦會包含您希望函數執行代碼跟其他操作。例如，讓我們創建一個向您問好的函數！</font>"
   ]
  },
  {
   "cell_type": "code",
   "execution_count": null,
   "metadata": {
    "id": "Bg3RhkdtMqsu"
   },
   "outputs": [],
   "source": [
    "def greet_user():\n",
    "    print(\"Hello\")"
   ]
  },
  {
   "cell_type": "markdown",
   "metadata": {
    "id": "rCPaWo75Mqsw"
   },
   "source": [
    "<font size=3>如果你運行上面的編程，什麼事都不會發生。因為它僅定義了函數，在您RUN(執行)它之前不會運行。 </font>"
   ]
  },
  {
   "cell_type": "code",
   "execution_count": null,
   "metadata": {
    "id": "rIsKERD3Mqsw"
   },
   "outputs": [],
   "source": [
    "greet_user() # Call the function"
   ]
  },
  {
   "cell_type": "markdown",
   "metadata": {
    "id": "CZ06VDwnMqsx"
   },
   "source": [
    "### Defining functions with parameters(利用參數定義函數)\n",
    "<font size=3>假如我們希望函數根據我們提供的參數從而做出一些不同的事情該怎麼辦？ 還記得您能改變<font face=\"Courier\">zumi.forward()</font>中向前行駛的秒數嗎？您亦能把參數加至您的函數上！ </font>"
   ]
  },
  {
   "cell_type": "code",
   "execution_count": null,
   "metadata": {
    "id": "wIeBEZBxMqsx"
   },
   "outputs": [],
   "source": [
    "def greet_user(name):\n",
    "    print(\"Hello\", name)\n",
    "\n",
    "greet_user(\"Zumi\")"
   ]
  },
  {
   "cell_type": "markdown",
   "metadata": {
    "id": "gVDNP_VUMqsy"
   },
   "source": [
    "<font size=3> 我們改變了函數的定義為當有人在參數輸入名稱時就會去說\"Hello\"。舉個例，我們**pass(傳達)** \"Zumi\"是一個參數到函數上。嘗試重新運行該函數，但使用不同的名稱。請確保參數是有被引號包住！ "
   ]
  },
  {
   "cell_type": "code",
   "execution_count": null,
   "metadata": {
    "id": "KtIEhBLoMqsy"
   },
   "outputs": [],
   "source": [
    "greet_user(\"CHANGE ME!\")"
   ]
  },
  {
   "cell_type": "markdown",
   "metadata": {
    "id": "0VGvyS4ZMqsz"
   },
   "source": [
    "<font size=3> 如果函數中沒使用引號，您認為會發生什麼？或是說我們輸入數字又會發生什麼？ </font>"
   ]
  },
  {
   "cell_type": "code",
   "execution_count": null,
   "metadata": {
    "id": "C8geNS-MMqs0"
   },
   "outputs": [],
   "source": [
    "greet_user(12345)"
   ]
  },
  {
   "cell_type": "markdown",
   "metadata": {
    "id": "1aFBQZt6Mqs0"
   },
   "source": [
    "<font size=3> 由於我們將函數定義成要將內容打印至螢幕上，因此任何輸入的東西都需要用引號引起來。但這不是說您不能使用數字編寫函數！很多Zumi的參數,例如速度,時間都是數字。 </font>\n",
    "\n",
    "### Multiple parameters(多個參數)\n",
    "<font size=3> 就如<font face=\"Courier\">zumi.forward()</font>一樣,您能將函數編寫成需要多於一個的參數。下面例子會顯示一個函數需兩個輸入並把它加在一起。\n",
    "\n",
    "</font>"
   ]
  },
  {
   "cell_type": "code",
   "execution_count": null,
   "metadata": {
    "id": "57yNQSXbMqs0"
   },
   "outputs": [],
   "source": [
    "def add(x,y):\n",
    "    print(x+y)"
   ]
  },
  {
   "cell_type": "markdown",
   "metadata": {
    "id": "1kt4BFwtMqs1"
   },
   "source": [
    "<font size=3> 在執行函數時嘗試使用逗號分隔的數字2和3。你認為會發生什麼？</font>"
   ]
  },
  {
   "cell_type": "code",
   "execution_count": null,
   "metadata": {
    "id": "ogYx5MowMqs1"
   },
   "outputs": [],
   "source": [
    "# Call the add() function"
   ]
  },
  {
   "cell_type": "markdown",
   "metadata": {
    "id": "tOjfBCO_Mqs2"
   },
   "source": [
    "### Functions with Zumi(與Zumi函數)\n",
    "<font size=3>您已經掌握基礎知識了，現在請嘗試創建一個使用駕駛命令的函數。這是一個使用駕駛命令製作正方形的例子："
   ]
  },
  {
   "cell_type": "code",
   "execution_count": null,
   "metadata": {
    "id": "UvviEqIOMqs2"
   },
   "outputs": [],
   "source": [
    "from zumi.zumi import Zumi # Don't forget to import the zumi library!\n",
    "zumi = Zumi() # ...and create Zumi object!"
   ]
  },
  {
   "cell_type": "code",
   "execution_count": null,
   "metadata": {
    "id": "jv5kg-cXMqs2"
   },
   "outputs": [],
   "source": [
    "def my_square(): # Function definition \n",
    "    zumi.forward() \n",
    "    zumi.turn_left()\n",
    "    zumi.forward()\n",
    "    zumi.turn_left()\n",
    "    zumi.forward()\n",
    "    zumi.turn_left()\n",
    "    zumi.forward()\n",
    "    zumi.turn_left()\n",
    "    \n",
    "my_square() # Call the function with the parameter to change the square size\n",
    "    "
   ]
  },
  {
   "cell_type": "markdown",
   "metadata": {
    "id": "kKmHXsPaMqs3"
   },
   "source": [
    "<font size=3> 在下面創建新函數！如果您想要挑戰難度的話，可嘗試修改上面的 square 函數成可接受秒數參數更改您的正方形大小。"
   ]
  },
  {
   "cell_type": "code",
   "execution_count": null,
   "metadata": {
    "hide_input": false,
    "id": "5bfII8xMMqs3"
   },
   "outputs": [],
   "source": [
    "# CODE ME!"
   ]
  }
 ],
 "metadata": {
  "colab": {
   "collapsed_sections": [],
   "name": "15 Putting it Together.ipynb",
   "provenance": []
  },
  "kernelspec": {
   "display_name": "Python 3",
   "language": "python",
   "name": "python3"
  },
  "language_info": {
   "codemirror_mode": {
    "name": "ipython",
    "version": 3
   },
   "file_extension": ".py",
   "mimetype": "text/x-python",
   "name": "python",
   "nbconvert_exporter": "python",
   "pygments_lexer": "ipython3",
   "version": "3.5.3"
  }
 },
 "nbformat": 4,
 "nbformat_minor": 1
}
